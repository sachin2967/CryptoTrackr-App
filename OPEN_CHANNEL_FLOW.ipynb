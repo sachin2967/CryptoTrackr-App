{
  "nbformat": 4,
  "nbformat_minor": 0,
  "metadata": {
    "colab": {
      "provenance": [],
      "authorship_tag": "ABX9TyOSjaEE9vCR1C5MVKAFPcTM"
    },
    "kernelspec": {
      "name": "python3",
      "display_name": "Python 3"
    },
    "language_info": {
      "name": "python"
    }
  },
  "cells": [
    {
      "cell_type": "code",
      "execution_count": null,
      "metadata": {
        "colab": {
          "base_uri": "https://localhost:8080/"
        },
        "id": "kYZhdO30X5Em",
        "outputId": "7144b974-7a23-475b-a65f-3dc1c1150b45"
      },
      "outputs": [
        {
          "output_type": "stream",
          "name": "stdout",
          "text": [
            "Rectangular Section - yn : 2.81840668153386, yc : 1.6439430849811352, err : 7.043997094746679e-05\n",
            "Triangular Section - yn : 4.334121743919096, yc : 3.30610672232902, err : 8.865280727987646e-05\n",
            "Trapezoidal Section - yn : 2.2358446982804216, yc : 1.5178534637487717, err : 9.454246248985498e-05\n"
          ]
        }
      ],
      "source": [
        "#21CE10056\n",
        "#OPEN CHANNEL FLOW\n",
        "import math\n",
        "\n",
        "# Function to solve Manning's equation for a given section type\n",
        "def mannings_equation(Q, b, n, m, S, yn):\n",
        "    # Calculate terms for the numerator and denominator\n",
        "    numerator_term = (math.sqrt(S)/n) * ((b + m * yn) * yn)**(5/3)\n",
        "    denominator_term = (b + 2 * yn * math.sqrt(1 + m**2))**(2/3)\n",
        "\n",
        "    # Evaluate Manning's equation and subtract the given flow rate Q\n",
        "    result = (numerator_term / denominator_term) - Q\n",
        "    return result\n",
        "\n",
        "# Function to calculate the derivative of Manning's equation\n",
        "def mannings_derivative(b, n, m, S, yn):\n",
        "    # Calculate terms for the derivative\n",
        "    numerator_term1 = ((b + m * yn) * yn)**(2/3)\n",
        "    denominator = (b + 2 * yn * math.sqrt(1 + m*m))**(2/3)\n",
        "\n",
        "    # Evaluate the derivative of Manning's equation\n",
        "    numerator_term2 = -4/3 * math.sqrt(1 + m*m) * (numerator_term1)/(denominator)**(5/2) + 5/3 * (b + 2 * m * yn) /(denominator)\n",
        "\n",
        "    result = numerator_term1 * numerator_term2\n",
        "    return result\n",
        "\n",
        "# Function to solve Manning's critical flow equation for a given section type\n",
        "def mannings_critical_equation(b, m, yc, Q, g):\n",
        "    # Calculate terms for the critical flow equation\n",
        "    first_term = ((b + m * yc) * yc)**(3/2)/(math.sqrt(b + 2 * m * yc))\n",
        "    second_term =  (Q / math.sqrt(g))\n",
        "\n",
        "    # Evaluate Manning's critical flow equation\n",
        "    result = first_term - second_term\n",
        "    return result\n",
        "\n",
        "# Function to calculate the derivative of Manning's critical flow equation\n",
        "def mannings_critical_derivative(b, m, yc, g):\n",
        "    # Calculate terms for the derivative of the critical flow equation\n",
        "    first_term = -m * (b + m * yc) * yc / (b + 2 * m * yc)**(3/2)\n",
        "    second_term = 3/2 * math.sqrt((b + m * yc) * yc) * (b + 2 * m * yc)\n",
        "\n",
        "    result = first_term + second_term\n",
        "    return result\n",
        "\n",
        "# Function to solve the section for a given flow rate and section type\n",
        "def solve_section(Q, n, S, g, section_type, b, m):\n",
        "    err = 1\n",
        "    yn = 10\n",
        "    yc = 10\n",
        "\n",
        "    # Iterate until the error is below a specified threshold\n",
        "    while abs(err) > 0.0001:\n",
        "        # Solve Manning's equation for the given section\n",
        "        equation_value = mannings_equation(Q, b, n, m, S, yn)\n",
        "        derivative_value = mannings_derivative(b, n, m, S, yn)\n",
        "        yn_old = yn\n",
        "\n",
        "        # Update the flow depth using Newton's method\n",
        "        yn = yn - (equation_value / derivative_value)\n",
        "        yn_new = yn\n",
        "        err = yn_new - yn_old\n",
        "\n",
        "        # Solve Manning's critical flow equation for the given section\n",
        "        equation_value_critical = mannings_critical_equation(b, m, yc, Q, g)\n",
        "        derivative_value_critical = mannings_critical_derivative(b, m, yc, g)\n",
        "        yc_old = yc\n",
        "\n",
        "        # Update the critical flow depth using Newton's method\n",
        "        yc = yc - (equation_value_critical / derivative_value_critical)\n",
        "        yc_new = yc\n",
        "\n",
        "        # Calculate the average error for both iterations\n",
        "        err = (abs(err) + abs(yc_new - yc_old)) / 2\n",
        "\n",
        "    # Print the results for the section\n",
        "    print(f\"{section_type.capitalize()} Section - yn : {yn}, yc : {yc}, err : {err}\")\n",
        "\n",
        "# Parameters\n",
        "Q, n, S, g = 66, 0.02, 0.001, 9.81\n",
        "\n",
        "# Rectangular section\n",
        "solve_section(Q, n, S, g, \"rectangular\", b=10, m=0)\n",
        "\n",
        "# Triangular section\n",
        "solve_section(Q, n, S, g, \"triangular\", b=0, m=1.5)\n",
        "\n",
        "# Trapezoidal section\n",
        "solve_section(Q, n, S, g, \"trapezoidal\", b=10, m=1.5)\n"
      ]
    }
  ]
}